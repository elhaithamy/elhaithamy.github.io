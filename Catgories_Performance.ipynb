{
  "nbformat": 4,
  "nbformat_minor": 0,
  "metadata": {
    "colab": {
      "provenance": [],
      "authorship_tag": "ABX9TyMzEEwBYE2VkLLCCCKuc6vr",
      "include_colab_link": true
    },
    "kernelspec": {
      "name": "python3",
      "display_name": "Python 3"
    },
    "language_info": {
      "name": "python"
    }
  },
  "cells": [
    {
      "cell_type": "markdown",
      "metadata": {
        "id": "view-in-github",
        "colab_type": "text"
      },
      "source": [
        "<a href=\"https://colab.research.google.com/github/elhaithamy/elhaithamy.github.io/blob/master/Catgories_Performance.ipynb\" target=\"_parent\"><img src=\"https://colab.research.google.com/assets/colab-badge.svg\" alt=\"Open In Colab\"/></a>"
      ]
    },
    {
      "cell_type": "code",
      "execution_count": 1,
      "metadata": {
        "colab": {
          "base_uri": "https://localhost:8080/",
          "height": 384
        },
        "id": "s0WmO2Z9ny-R",
        "outputId": "45f8c344-9a85-4bc4-8770-d34f68c8d636"
      },
      "outputs": [
        {
          "output_type": "error",
          "ename": "ModuleNotFoundError",
          "evalue": "No module named 'streamlit'",
          "traceback": [
            "\u001b[0;31m---------------------------------------------------------------------------\u001b[0m",
            "\u001b[0;31mModuleNotFoundError\u001b[0m                       Traceback (most recent call last)",
            "\u001b[0;32m/tmp/ipython-input-1413449240.py\u001b[0m in \u001b[0;36m<cell line: 0>\u001b[0;34m()\u001b[0m\n\u001b[1;32m      1\u001b[0m \u001b[0;32mimport\u001b[0m \u001b[0mpandas\u001b[0m \u001b[0;32mas\u001b[0m \u001b[0mpd\u001b[0m\u001b[0;34m\u001b[0m\u001b[0;34m\u001b[0m\u001b[0m\n\u001b[0;32m----> 2\u001b[0;31m \u001b[0;32mimport\u001b[0m \u001b[0mstreamlit\u001b[0m \u001b[0;32mas\u001b[0m \u001b[0mst\u001b[0m\u001b[0;34m\u001b[0m\u001b[0;34m\u001b[0m\u001b[0m\n\u001b[0m\u001b[1;32m      3\u001b[0m \u001b[0;34m\u001b[0m\u001b[0m\n\u001b[1;32m      4\u001b[0m \u001b[0;31m# Expected headers\u001b[0m\u001b[0;34m\u001b[0m\u001b[0;34m\u001b[0m\u001b[0m\n\u001b[1;32m      5\u001b[0m EXPECTED_COLUMNS = [\n",
            "\u001b[0;31mModuleNotFoundError\u001b[0m: No module named 'streamlit'",
            "",
            "\u001b[0;31m---------------------------------------------------------------------------\u001b[0;32m\nNOTE: If your import is failing due to a missing package, you can\nmanually install dependencies using either !pip or !apt.\n\nTo view examples of installing some common dependencies, click the\n\"Open Examples\" button below.\n\u001b[0;31m---------------------------------------------------------------------------\u001b[0m\n"
          ],
          "errorDetails": {
            "actions": [
              {
                "action": "open_url",
                "actionText": "Open Examples",
                "url": "/notebooks/snippets/importing_libraries.ipynb"
              }
            ]
          }
        }
      ],
      "source": [
        "import pandas as pd\n",
        "import streamlit as st\n",
        "\n",
        "# Expected headers\n",
        "EXPECTED_COLUMNS = [\n",
        "    \"store\", \"ItemLookupCode\", \"Department\", \"Description\", \"Category\",\n",
        "    \"SubCategroy\", \"TYPE\", \"SubType\", \"month\", \"n_order\", \"n_picked\",\n",
        "    \"QTY\", \"average_ordered_qty\", \"total_amount\", \"n_dismissed\", \"total_loss_amount\"\n",
        "]\n",
        "\n",
        "st.title(\"📊 Category & Item Level Analysis Tool\")\n",
        "\n",
        "# Upload Excel file\n",
        "uploaded_file = st.file_uploader(\"Upload your Excel file\", type=[\"xlsx\"])\n",
        "\n",
        "if uploaded_file:\n",
        "    df = pd.read_excel(uploaded_file)\n",
        "\n",
        "    # Validate headers\n",
        "    if not all(col in df.columns for col in EXPECTED_COLUMNS):\n",
        "        st.error(\"❌ Uploaded file must contain all required columns:\")\n",
        "        st.write(EXPECTED_COLUMNS)\n",
        "    else:\n",
        "        st.success(\"✅ File uploaded successfully and headers validated!\")\n",
        "\n",
        "        # --- FILTERS ---\n",
        "        st.sidebar.header(\"Filters\")\n",
        "\n",
        "        # Store filter\n",
        "        stores = df[\"store\"].unique().tolist()\n",
        "        selected_store = st.sidebar.multiselect(\"Select Store(s)\", options=stores, default=stores)\n",
        "\n",
        "        # Month filter\n",
        "        months = df[\"month\"].unique().tolist()\n",
        "        selected_month = st.sidebar.multiselect(\"Select Month(s)\", options=months, default=months)\n",
        "\n",
        "        # Apply filters\n",
        "        filtered_df = df[(df[\"store\"].isin(selected_store)) & (df[\"month\"].isin(selected_month))]\n",
        "\n",
        "        st.sidebar.header(\"Choose Analysis\")\n",
        "        option = st.sidebar.radio(\n",
        "            \"Select analysis type:\",\n",
        "            (\n",
        "                \"Top-Selling Categories\",\n",
        "                \"Low-Performing Categories\",\n",
        "                \"Declining Sub-Categories\",\n",
        "                \"Hero vs Dead SKUs\",\n",
        "                \"Category Contribution\",\n",
        "                \"ABC Classification\",\n",
        "                \"Dismissal & Loss Analysis\"\n",
        "            )\n",
        "        )\n",
        "\n",
        "        # --- ANALYSIS OPTIONS ---\n",
        "        if option == \"Top-Selling Categories\":\n",
        "            result = filtered_df.groupby(\"Category\")[\"total_amount\"].sum().sort_values(ascending=False).head(10)\n",
        "            st.subheader(\"🔥 Top-Selling Categories\")\n",
        "            st.dataframe(result)\n",
        "            st.download_button(\"⬇️ Download Results\", result.to_csv().encode(\"utf-8\"), \"top_selling.csv\", \"text/csv\")\n",
        "\n",
        "        elif option == \"Low-Performing Categories\":\n",
        "            result = filtered_df.groupby(\"Category\")[\"total_amount\"].sum().sort_values(ascending=True).head(10)\n",
        "            st.subheader(\"📉 Low-Performing Categories\")\n",
        "            st.dataframe(result)\n",
        "            st.download_button(\"⬇️ Download Results\", result.to_csv().encode(\"utf-8\"), \"low_performing.csv\", \"text/csv\")\n",
        "\n",
        "        elif option == \"Declining Sub-Categories\":\n",
        "            subcat_month = filtered_df.groupby([\"Category\", \"SubCategroy\", \"month\"])[\"total_amount\"].sum().reset_index()\n",
        "            subcat_month = subcat_month.sort_values([\"Category\", \"SubCategroy\", \"month\"])\n",
        "            subcat_month[\"pct_change\"] = subcat_month.groupby([\"Category\", \"SubCategroy\"])[\"total_amount\"].pct_change()\n",
        "            declining = subcat_month[subcat_month[\"pct_change\"] < 0]\n",
        "            st.subheader(\"🔻 Declining Sub-Categories\")\n",
        "            st.dataframe(declining)\n",
        "            st.download_button(\"⬇️ Download Results\", declining.to_csv().encode(\"utf-8\"), \"declining_subcategories.csv\", \"text/csv\")\n",
        "\n",
        "        elif option == \"Hero vs Dead SKUs\":\n",
        "            sku_sales = filtered_df.groupby([\"ItemLookupCode\", \"Description\"])[\"total_amount\"].sum().reset_index()\n",
        "            hero = sku_sales.sort_values(\"total_amount\", ascending=False).head(10)\n",
        "            dead = sku_sales.sort_values(\"total_amount\", ascending=True).head(10)\n",
        "            st.subheader(\"⭐ Hero SKUs\")\n",
        "            st.dataframe(hero)\n",
        "            st.download_button(\"⬇️ Download Hero SKUs\", hero.to_csv().encode(\"utf-8\"), \"hero_skus.csv\", \"text/csv\")\n",
        "            st.subheader(\"💀 Dead SKUs\")\n",
        "            st.dataframe(dead)\n",
        "            st.download_button(\"⬇️ Download Dead SKUs\", dead.to_csv().encode(\"utf-8\"), \"dead_skus.csv\", \"text/csv\")\n",
        "\n",
        "        elif option == \"Category Contribution\":\n",
        "            contribution = filtered_df.groupby(\"Category\")[\"total_amount\"].sum()\n",
        "            contribution = (contribution / contribution.sum() * 100).reset_index()\n",
        "            contribution.columns = [\"Category\", \"Contribution %\"]\n",
        "            st.subheader(\"📊 Category Contribution\")\n",
        "            st.dataframe(contribution)\n",
        "            st.download_button(\"⬇️ Download Results\", contribution.to_csv().encode(\"utf-8\"), \"category_contribution.csv\", \"text/csv\")\n",
        "\n",
        "        elif option == \"ABC Classification\":\n",
        "            sku_sales = filtered_df.groupby([\"ItemLookupCode\", \"Description\"])[\"total_amount\"].sum().sort_values(ascending=False).reset_index()\n",
        "            sku_sales[\"cum_pct\"] = sku_sales[\"total_amount\"].cumsum() / sku_sales[\"total_amount\"].sum()\n",
        "            sku_sales[\"Class\"] = pd.cut(sku_sales[\"cum_pct\"], bins=[0, 0.8, 0.95, 1], labels=[\"A\", \"B\", \"C\"])\n",
        "            st.subheader(\"🔠 ABC Classification of SKUs\")\n",
        "            st.dataframe(sku_sales)\n",
        "            st.download_button(\"⬇️ Download Results\", sku_sales.to_csv().encode(\"utf-8\"), \"abc_classification.csv\", \"text/csv\")\n",
        "\n",
        "        elif option == \"Dismissal & Loss Analysis\":\n",
        "            loss = filtered_df.groupby(\"Category\")[[\"n_dismissed\", \"total_loss_amount\"]].sum().reset_index()\n",
        "            st.subheader(\"💸 Dismissal & Loss Analysis\")\n",
        "            st.dataframe(loss)\n",
        "            st.download_button(\"⬇️ Download Results\", loss.to_csv().encode(\"utf-8\"), \"loss_analysis.csv\", \"text/csv\")\n"
      ]
    },
    {
      "cell_type": "code",
      "metadata": {
        "colab": {
          "base_uri": "https://localhost:8080/"
        },
        "id": "af490e2a",
        "outputId": "eb9a9030-2876-410c-cb48-6ae36564a0a8"
      },
      "source": [
        "!pip install streamlit"
      ],
      "execution_count": 2,
      "outputs": [
        {
          "output_type": "stream",
          "name": "stdout",
          "text": [
            "Collecting streamlit\n",
            "  Downloading streamlit-1.48.1-py3-none-any.whl.metadata (9.5 kB)\n",
            "Requirement already satisfied: altair!=5.4.0,!=5.4.1,<6,>=4.0 in /usr/local/lib/python3.12/dist-packages (from streamlit) (5.5.0)\n",
            "Requirement already satisfied: blinker<2,>=1.5.0 in /usr/local/lib/python3.12/dist-packages (from streamlit) (1.9.0)\n",
            "Requirement already satisfied: cachetools<7,>=4.0 in /usr/local/lib/python3.12/dist-packages (from streamlit) (5.5.2)\n",
            "Requirement already satisfied: click<9,>=7.0 in /usr/local/lib/python3.12/dist-packages (from streamlit) (8.2.1)\n",
            "Requirement already satisfied: numpy<3,>=1.23 in /usr/local/lib/python3.12/dist-packages (from streamlit) (2.0.2)\n",
            "Requirement already satisfied: packaging<26,>=20 in /usr/local/lib/python3.12/dist-packages (from streamlit) (25.0)\n",
            "Requirement already satisfied: pandas<3,>=1.4.0 in /usr/local/lib/python3.12/dist-packages (from streamlit) (2.2.2)\n",
            "Requirement already satisfied: pillow<12,>=7.1.0 in /usr/local/lib/python3.12/dist-packages (from streamlit) (11.3.0)\n",
            "Requirement already satisfied: protobuf<7,>=3.20 in /usr/local/lib/python3.12/dist-packages (from streamlit) (5.29.5)\n",
            "Requirement already satisfied: pyarrow>=7.0 in /usr/local/lib/python3.12/dist-packages (from streamlit) (18.1.0)\n",
            "Requirement already satisfied: requests<3,>=2.27 in /usr/local/lib/python3.12/dist-packages (from streamlit) (2.32.3)\n",
            "Requirement already satisfied: tenacity<10,>=8.1.0 in /usr/local/lib/python3.12/dist-packages (from streamlit) (9.1.2)\n",
            "Requirement already satisfied: toml<2,>=0.10.1 in /usr/local/lib/python3.12/dist-packages (from streamlit) (0.10.2)\n",
            "Requirement already satisfied: typing-extensions<5,>=4.4.0 in /usr/local/lib/python3.12/dist-packages (from streamlit) (4.14.1)\n",
            "Collecting watchdog<7,>=2.1.5 (from streamlit)\n",
            "  Downloading watchdog-6.0.0-py3-none-manylinux2014_x86_64.whl.metadata (44 kB)\n",
            "\u001b[2K     \u001b[90m━━━━━━━━━━━━━━━━━━━━━━━━━━━━━━━━━━━━━━━\u001b[0m \u001b[32m44.3/44.3 kB\u001b[0m \u001b[31m490.4 kB/s\u001b[0m eta \u001b[36m0:00:00\u001b[0m\n",
            "\u001b[?25hRequirement already satisfied: gitpython!=3.1.19,<4,>=3.0.7 in /usr/local/lib/python3.12/dist-packages (from streamlit) (3.1.45)\n",
            "Collecting pydeck<1,>=0.8.0b4 (from streamlit)\n",
            "  Downloading pydeck-0.9.1-py2.py3-none-any.whl.metadata (4.1 kB)\n",
            "Requirement already satisfied: tornado!=6.5.0,<7,>=6.0.3 in /usr/local/lib/python3.12/dist-packages (from streamlit) (6.4.2)\n",
            "Requirement already satisfied: jinja2 in /usr/local/lib/python3.12/dist-packages (from altair!=5.4.0,!=5.4.1,<6,>=4.0->streamlit) (3.1.6)\n",
            "Requirement already satisfied: jsonschema>=3.0 in /usr/local/lib/python3.12/dist-packages (from altair!=5.4.0,!=5.4.1,<6,>=4.0->streamlit) (4.25.0)\n",
            "Requirement already satisfied: narwhals>=1.14.2 in /usr/local/lib/python3.12/dist-packages (from altair!=5.4.0,!=5.4.1,<6,>=4.0->streamlit) (2.1.1)\n",
            "Requirement already satisfied: gitdb<5,>=4.0.1 in /usr/local/lib/python3.12/dist-packages (from gitpython!=3.1.19,<4,>=3.0.7->streamlit) (4.0.12)\n",
            "Requirement already satisfied: python-dateutil>=2.8.2 in /usr/local/lib/python3.12/dist-packages (from pandas<3,>=1.4.0->streamlit) (2.9.0.post0)\n",
            "Requirement already satisfied: pytz>=2020.1 in /usr/local/lib/python3.12/dist-packages (from pandas<3,>=1.4.0->streamlit) (2025.2)\n",
            "Requirement already satisfied: tzdata>=2022.7 in /usr/local/lib/python3.12/dist-packages (from pandas<3,>=1.4.0->streamlit) (2025.2)\n",
            "Requirement already satisfied: charset-normalizer<4,>=2 in /usr/local/lib/python3.12/dist-packages (from requests<3,>=2.27->streamlit) (3.4.3)\n",
            "Requirement already satisfied: idna<4,>=2.5 in /usr/local/lib/python3.12/dist-packages (from requests<3,>=2.27->streamlit) (3.10)\n",
            "Requirement already satisfied: urllib3<3,>=1.21.1 in /usr/local/lib/python3.12/dist-packages (from requests<3,>=2.27->streamlit) (2.5.0)\n",
            "Requirement already satisfied: certifi>=2017.4.17 in /usr/local/lib/python3.12/dist-packages (from requests<3,>=2.27->streamlit) (2025.8.3)\n",
            "Requirement already satisfied: smmap<6,>=3.0.1 in /usr/local/lib/python3.12/dist-packages (from gitdb<5,>=4.0.1->gitpython!=3.1.19,<4,>=3.0.7->streamlit) (5.0.2)\n",
            "Requirement already satisfied: MarkupSafe>=2.0 in /usr/local/lib/python3.12/dist-packages (from jinja2->altair!=5.4.0,!=5.4.1,<6,>=4.0->streamlit) (3.0.2)\n",
            "Requirement already satisfied: attrs>=22.2.0 in /usr/local/lib/python3.12/dist-packages (from jsonschema>=3.0->altair!=5.4.0,!=5.4.1,<6,>=4.0->streamlit) (25.3.0)\n",
            "Requirement already satisfied: jsonschema-specifications>=2023.03.6 in /usr/local/lib/python3.12/dist-packages (from jsonschema>=3.0->altair!=5.4.0,!=5.4.1,<6,>=4.0->streamlit) (2025.4.1)\n",
            "Requirement already satisfied: referencing>=0.28.4 in /usr/local/lib/python3.12/dist-packages (from jsonschema>=3.0->altair!=5.4.0,!=5.4.1,<6,>=4.0->streamlit) (0.36.2)\n",
            "Requirement already satisfied: rpds-py>=0.7.1 in /usr/local/lib/python3.12/dist-packages (from jsonschema>=3.0->altair!=5.4.0,!=5.4.1,<6,>=4.0->streamlit) (0.27.0)\n",
            "Requirement already satisfied: six>=1.5 in /usr/local/lib/python3.12/dist-packages (from python-dateutil>=2.8.2->pandas<3,>=1.4.0->streamlit) (1.17.0)\n",
            "Downloading streamlit-1.48.1-py3-none-any.whl (9.9 MB)\n",
            "\u001b[2K   \u001b[90m━━━━━━━━━━━━━━━━━━━━━━━━━━━━━━━━━━━━━━━━\u001b[0m \u001b[32m9.9/9.9 MB\u001b[0m \u001b[31m22.0 MB/s\u001b[0m eta \u001b[36m0:00:00\u001b[0m\n",
            "\u001b[?25hDownloading pydeck-0.9.1-py2.py3-none-any.whl (6.9 MB)\n",
            "\u001b[2K   \u001b[90m━━━━━━━━━━━━━━━━━━━━━━━━━━━━━━━━━━━━━━━━\u001b[0m \u001b[32m6.9/6.9 MB\u001b[0m \u001b[31m62.0 MB/s\u001b[0m eta \u001b[36m0:00:00\u001b[0m\n",
            "\u001b[?25hDownloading watchdog-6.0.0-py3-none-manylinux2014_x86_64.whl (79 kB)\n",
            "\u001b[2K   \u001b[90m━━━━━━━━━━━━━━━━━━━━━━━━━━━━━━━━━━━━━━━━\u001b[0m \u001b[32m79.1/79.1 kB\u001b[0m \u001b[31m5.1 MB/s\u001b[0m eta \u001b[36m0:00:00\u001b[0m\n",
            "\u001b[?25hInstalling collected packages: watchdog, pydeck, streamlit\n",
            "Successfully installed pydeck-0.9.1 streamlit-1.48.1 watchdog-6.0.0\n"
          ]
        }
      ]
    }
  ]
}